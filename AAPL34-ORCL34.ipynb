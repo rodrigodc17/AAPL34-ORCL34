{
 "cells": [
  {
   "cell_type": "code",
   "execution_count": 6,
   "metadata": {},
   "outputs": [
    {
     "data": {
      "text/html": [
       "<div>\n",
       "<style scoped>\n",
       "    .dataframe tbody tr th:only-of-type {\n",
       "        vertical-align: middle;\n",
       "    }\n",
       "\n",
       "    .dataframe tbody tr th {\n",
       "        vertical-align: top;\n",
       "    }\n",
       "\n",
       "    .dataframe thead th {\n",
       "        text-align: right;\n",
       "    }\n",
       "</style>\n",
       "<table border=\"1\" class=\"dataframe\">\n",
       "  <thead>\n",
       "    <tr style=\"text-align: right;\">\n",
       "      <th></th>\n",
       "      <th>Date</th>\n",
       "      <th>Open</th>\n",
       "      <th>High</th>\n",
       "      <th>Low</th>\n",
       "      <th>Close</th>\n",
       "      <th>Adj Close</th>\n",
       "      <th>Volume</th>\n",
       "    </tr>\n",
       "  </thead>\n",
       "  <tbody>\n",
       "    <tr>\n",
       "      <th>1239</th>\n",
       "      <td>2020-04-30</td>\n",
       "      <td>289.390015</td>\n",
       "      <td>289.390015</td>\n",
       "      <td>289.390015</td>\n",
       "      <td>289.390015</td>\n",
       "      <td>289.390015</td>\n",
       "      <td>1100.0</td>\n",
       "    </tr>\n",
       "    <tr>\n",
       "      <th>1240</th>\n",
       "      <td>2020-05-04</td>\n",
       "      <td>287.029999</td>\n",
       "      <td>287.029999</td>\n",
       "      <td>287.029999</td>\n",
       "      <td>287.029999</td>\n",
       "      <td>287.029999</td>\n",
       "      <td>10.0</td>\n",
       "    </tr>\n",
       "    <tr>\n",
       "      <th>1241</th>\n",
       "      <td>2020-05-05</td>\n",
       "      <td>287.029999</td>\n",
       "      <td>287.029999</td>\n",
       "      <td>287.029999</td>\n",
       "      <td>287.029999</td>\n",
       "      <td>287.029999</td>\n",
       "      <td>0.0</td>\n",
       "    </tr>\n",
       "    <tr>\n",
       "      <th>1242</th>\n",
       "      <td>2020-05-06</td>\n",
       "      <td>297.100006</td>\n",
       "      <td>297.100006</td>\n",
       "      <td>297.100006</td>\n",
       "      <td>297.100006</td>\n",
       "      <td>297.100006</td>\n",
       "      <td>100.0</td>\n",
       "    </tr>\n",
       "    <tr>\n",
       "      <th>1243</th>\n",
       "      <td>2020-05-07</td>\n",
       "      <td>307.279999</td>\n",
       "      <td>307.279999</td>\n",
       "      <td>307.279999</td>\n",
       "      <td>307.279999</td>\n",
       "      <td>307.279999</td>\n",
       "      <td>100.0</td>\n",
       "    </tr>\n",
       "  </tbody>\n",
       "</table>\n",
       "</div>"
      ],
      "text/plain": [
       "            Date        Open        High         Low       Close   Adj Close  \\\n",
       "1239  2020-04-30  289.390015  289.390015  289.390015  289.390015  289.390015   \n",
       "1240  2020-05-04  287.029999  287.029999  287.029999  287.029999  287.029999   \n",
       "1241  2020-05-05  287.029999  287.029999  287.029999  287.029999  287.029999   \n",
       "1242  2020-05-06  297.100006  297.100006  297.100006  297.100006  297.100006   \n",
       "1243  2020-05-07  307.279999  307.279999  307.279999  307.279999  307.279999   \n",
       "\n",
       "      Volume  \n",
       "1239  1100.0  \n",
       "1240    10.0  \n",
       "1241     0.0  \n",
       "1242   100.0  \n",
       "1243   100.0  "
      ]
     },
     "execution_count": 6,
     "metadata": {},
     "output_type": "execute_result"
    }
   ],
   "source": [
    "#In this chart I will compare the performance of the stocks AAPL34 and ORCL34. Data from last 5 years\n",
    "import pandas as pd\n",
    "orcl = pd.read_csv('orcl.csv')\n",
    "app = pd.read_csv('aapl.csv')\n",
    "orcl.tail()\n"
   ]
  },
  {
   "cell_type": "code",
   "execution_count": 8,
   "metadata": {},
   "outputs": [
    {
     "data": {
      "text/html": [
       "<div>\n",
       "<style scoped>\n",
       "    .dataframe tbody tr th:only-of-type {\n",
       "        vertical-align: middle;\n",
       "    }\n",
       "\n",
       "    .dataframe tbody tr th {\n",
       "        vertical-align: top;\n",
       "    }\n",
       "\n",
       "    .dataframe thead th {\n",
       "        text-align: right;\n",
       "    }\n",
       "</style>\n",
       "<table border=\"1\" class=\"dataframe\">\n",
       "  <thead>\n",
       "    <tr style=\"text-align: right;\">\n",
       "      <th></th>\n",
       "      <th>Date</th>\n",
       "      <th>Open</th>\n",
       "      <th>High</th>\n",
       "      <th>Low</th>\n",
       "      <th>Close</th>\n",
       "      <th>Adj Close</th>\n",
       "      <th>Volume</th>\n",
       "    </tr>\n",
       "  </thead>\n",
       "  <tbody>\n",
       "    <tr>\n",
       "      <th>0</th>\n",
       "      <td>2015-05-08</td>\n",
       "      <td>38.000000</td>\n",
       "      <td>39.189999</td>\n",
       "      <td>38.000000</td>\n",
       "      <td>39.189999</td>\n",
       "      <td>36.195042</td>\n",
       "      <td>1400.0</td>\n",
       "    </tr>\n",
       "    <tr>\n",
       "      <th>1</th>\n",
       "      <td>2015-05-11</td>\n",
       "      <td>38.869999</td>\n",
       "      <td>38.869999</td>\n",
       "      <td>38.869999</td>\n",
       "      <td>38.869999</td>\n",
       "      <td>35.899494</td>\n",
       "      <td>700.0</td>\n",
       "    </tr>\n",
       "    <tr>\n",
       "      <th>2</th>\n",
       "      <td>2015-05-12</td>\n",
       "      <td>38.599998</td>\n",
       "      <td>38.599998</td>\n",
       "      <td>38.200001</td>\n",
       "      <td>38.400002</td>\n",
       "      <td>35.465416</td>\n",
       "      <td>15900.0</td>\n",
       "    </tr>\n",
       "    <tr>\n",
       "      <th>3</th>\n",
       "      <td>2015-05-13</td>\n",
       "      <td>38.459999</td>\n",
       "      <td>38.520000</td>\n",
       "      <td>38.459999</td>\n",
       "      <td>38.520000</td>\n",
       "      <td>35.576248</td>\n",
       "      <td>1400.0</td>\n",
       "    </tr>\n",
       "    <tr>\n",
       "      <th>4</th>\n",
       "      <td>2015-05-14</td>\n",
       "      <td>38.849998</td>\n",
       "      <td>38.849998</td>\n",
       "      <td>38.299999</td>\n",
       "      <td>38.790001</td>\n",
       "      <td>35.825611</td>\n",
       "      <td>7200.0</td>\n",
       "    </tr>\n",
       "  </tbody>\n",
       "</table>\n",
       "</div>"
      ],
      "text/plain": [
       "         Date       Open       High        Low      Close  Adj Close   Volume\n",
       "0  2015-05-08  38.000000  39.189999  38.000000  39.189999  36.195042   1400.0\n",
       "1  2015-05-11  38.869999  38.869999  38.869999  38.869999  35.899494    700.0\n",
       "2  2015-05-12  38.599998  38.599998  38.200001  38.400002  35.465416  15900.0\n",
       "3  2015-05-13  38.459999  38.520000  38.459999  38.520000  35.576248   1400.0\n",
       "4  2015-05-14  38.849998  38.849998  38.299999  38.790001  35.825611   7200.0"
      ]
     },
     "execution_count": 8,
     "metadata": {},
     "output_type": "execute_result"
    }
   ],
   "source": [
    "app.head()"
   ]
  },
  {
   "cell_type": "code",
   "execution_count": 10,
   "metadata": {},
   "outputs": [
    {
     "data": {
      "text/html": [
       "<div>\n",
       "<style scoped>\n",
       "    .dataframe tbody tr th:only-of-type {\n",
       "        vertical-align: middle;\n",
       "    }\n",
       "\n",
       "    .dataframe tbody tr th {\n",
       "        vertical-align: top;\n",
       "    }\n",
       "\n",
       "    .dataframe thead th {\n",
       "        text-align: right;\n",
       "    }\n",
       "</style>\n",
       "<table border=\"1\" class=\"dataframe\">\n",
       "  <thead>\n",
       "    <tr style=\"text-align: right;\">\n",
       "      <th></th>\n",
       "      <th>Date</th>\n",
       "      <th>Open</th>\n",
       "      <th>High</th>\n",
       "      <th>Low</th>\n",
       "      <th>Close</th>\n",
       "      <th>Adj Close</th>\n",
       "      <th>Volume</th>\n",
       "      <th>MA10</th>\n",
       "      <th>MA60</th>\n",
       "    </tr>\n",
       "  </thead>\n",
       "  <tbody>\n",
       "    <tr>\n",
       "      <th>1190</th>\n",
       "      <td>2020-02-17</td>\n",
       "      <td>239.699997</td>\n",
       "      <td>239.699997</td>\n",
       "      <td>239.699997</td>\n",
       "      <td>239.699997</td>\n",
       "      <td>239.699997</td>\n",
       "      <td>0.0</td>\n",
       "      <td>236.997002</td>\n",
       "      <td>228.875999</td>\n",
       "    </tr>\n",
       "    <tr>\n",
       "      <th>1191</th>\n",
       "      <td>2020-02-18</td>\n",
       "      <td>240.639999</td>\n",
       "      <td>240.639999</td>\n",
       "      <td>239.839996</td>\n",
       "      <td>239.839996</td>\n",
       "      <td>239.839996</td>\n",
       "      <td>2340.0</td>\n",
       "      <td>238.061002</td>\n",
       "      <td>228.909999</td>\n",
       "    </tr>\n",
       "    <tr>\n",
       "      <th>1192</th>\n",
       "      <td>2020-02-19</td>\n",
       "      <td>243.580002</td>\n",
       "      <td>243.580002</td>\n",
       "      <td>243.580002</td>\n",
       "      <td>243.580002</td>\n",
       "      <td>243.580002</td>\n",
       "      <td>610.0</td>\n",
       "      <td>239.050002</td>\n",
       "      <td>229.030166</td>\n",
       "    </tr>\n",
       "    <tr>\n",
       "      <th>1193</th>\n",
       "      <td>2020-02-20</td>\n",
       "      <td>243.770004</td>\n",
       "      <td>244.279999</td>\n",
       "      <td>243.770004</td>\n",
       "      <td>244.279999</td>\n",
       "      <td>244.279999</td>\n",
       "      <td>1530.0</td>\n",
       "      <td>239.937001</td>\n",
       "      <td>229.153666</td>\n",
       "    </tr>\n",
       "    <tr>\n",
       "      <th>1194</th>\n",
       "      <td>2020-02-21</td>\n",
       "      <td>240.419998</td>\n",
       "      <td>240.539993</td>\n",
       "      <td>240.419998</td>\n",
       "      <td>240.539993</td>\n",
       "      <td>240.539993</td>\n",
       "      <td>1220.0</td>\n",
       "      <td>240.267000</td>\n",
       "      <td>229.178499</td>\n",
       "    </tr>\n",
       "  </tbody>\n",
       "</table>\n",
       "</div>"
      ],
      "text/plain": [
       "            Date        Open        High         Low       Close   Adj Close  \\\n",
       "1190  2020-02-17  239.699997  239.699997  239.699997  239.699997  239.699997   \n",
       "1191  2020-02-18  240.639999  240.639999  239.839996  239.839996  239.839996   \n",
       "1192  2020-02-19  243.580002  243.580002  243.580002  243.580002  243.580002   \n",
       "1193  2020-02-20  243.770004  244.279999  243.770004  244.279999  244.279999   \n",
       "1194  2020-02-21  240.419998  240.539993  240.419998  240.539993  240.539993   \n",
       "\n",
       "      Volume        MA10        MA60  \n",
       "1190     0.0  236.997002  228.875999  \n",
       "1191  2340.0  238.061002  228.909999  \n",
       "1192   610.0  239.050002  229.030166  \n",
       "1193  1530.0  239.937001  229.153666  \n",
       "1194  1220.0  240.267000  229.178499  "
      ]
     },
     "execution_count": 10,
     "metadata": {},
     "output_type": "execute_result"
    }
   ],
   "source": [
    "#Trading Metrics\n",
    "orcl['MA10'] = orcl['Close'].rolling(10).mean()\n",
    "orcl['MA60'] = orcl['Close'].rolling(60).mean()\n",
    "orcl = orcl.dropna()\n",
    "orcl.tail()"
   ]
  },
  {
   "cell_type": "code",
   "execution_count": 12,
   "metadata": {},
   "outputs": [
    {
     "data": {
      "image/png": "[encoded data removed]",
      "text/plain": [
       "<Figure size 432x288 with 1 Axes>"
      ]
     },
     "metadata": {
      "needs_background": "light"
     },
     "output_type": "display_data"
    }
   ],
   "source": [
    "#MA10>MA60 means that is time to buy\n",
    "\n",
    "import matplotlib.pyplot as plt\n",
    "orcl['MA10'].plot()\n",
    "orcl['MA60'].plot()\n",
    "plt.legend()\n",
    "plt.show()"
   ]
  },
  {
   "cell_type": "code",
   "execution_count": 14,
   "metadata": {},
   "outputs": [
    {
     "data": {
      "text/html": [
       "<div>\n",
       "<style scoped>\n",
       "    .dataframe tbody tr th:only-of-type {\n",
       "        vertical-align: middle;\n",
       "    }\n",
       "\n",
       "    .dataframe tbody tr th {\n",
       "        vertical-align: top;\n",
       "    }\n",
       "\n",
       "    .dataframe thead th {\n",
       "        text-align: right;\n",
       "    }\n",
       "</style>\n",
       "<table border=\"1\" class=\"dataframe\">\n",
       "  <thead>\n",
       "    <tr style=\"text-align: right;\">\n",
       "      <th></th>\n",
       "      <th>Date</th>\n",
       "      <th>Open</th>\n",
       "      <th>High</th>\n",
       "      <th>Low</th>\n",
       "      <th>Close</th>\n",
       "      <th>Adj Close</th>\n",
       "      <th>Volume</th>\n",
       "      <th>MA10</th>\n",
       "      <th>MA60</th>\n",
       "    </tr>\n",
       "  </thead>\n",
       "  <tbody>\n",
       "    <tr>\n",
       "      <th>1190</th>\n",
       "      <td>2020-02-17</td>\n",
       "      <td>147.649994</td>\n",
       "      <td>147.649994</td>\n",
       "      <td>140.509995</td>\n",
       "      <td>142.160004</td>\n",
       "      <td>142.160004</td>\n",
       "      <td>3570.0</td>\n",
       "      <td>139.627000</td>\n",
       "      <td>124.133667</td>\n",
       "    </tr>\n",
       "    <tr>\n",
       "      <th>1191</th>\n",
       "      <td>2020-02-18</td>\n",
       "      <td>142.130005</td>\n",
       "      <td>142.130005</td>\n",
       "      <td>137.000000</td>\n",
       "      <td>139.720001</td>\n",
       "      <td>139.720001</td>\n",
       "      <td>27560.0</td>\n",
       "      <td>140.107001</td>\n",
       "      <td>124.596167</td>\n",
       "    </tr>\n",
       "    <tr>\n",
       "      <th>1192</th>\n",
       "      <td>2020-02-19</td>\n",
       "      <td>140.000000</td>\n",
       "      <td>142.190002</td>\n",
       "      <td>140.000000</td>\n",
       "      <td>141.679993</td>\n",
       "      <td>141.679993</td>\n",
       "      <td>11610.0</td>\n",
       "      <td>140.603999</td>\n",
       "      <td>125.114334</td>\n",
       "    </tr>\n",
       "    <tr>\n",
       "      <th>1193</th>\n",
       "      <td>2020-02-20</td>\n",
       "      <td>142.000000</td>\n",
       "      <td>142.399994</td>\n",
       "      <td>140.000000</td>\n",
       "      <td>141.270004</td>\n",
       "      <td>141.270004</td>\n",
       "      <td>15890.0</td>\n",
       "      <td>140.739000</td>\n",
       "      <td>125.632834</td>\n",
       "    </tr>\n",
       "    <tr>\n",
       "      <th>1194</th>\n",
       "      <td>2020-02-21</td>\n",
       "      <td>140.000000</td>\n",
       "      <td>140.000000</td>\n",
       "      <td>137.000000</td>\n",
       "      <td>138.130005</td>\n",
       "      <td>138.130005</td>\n",
       "      <td>15940.0</td>\n",
       "      <td>140.665001</td>\n",
       "      <td>126.052000</td>\n",
       "    </tr>\n",
       "  </tbody>\n",
       "</table>\n",
       "</div>"
      ],
      "text/plain": [
       "            Date        Open        High         Low       Close   Adj Close  \\\n",
       "1190  2020-02-17  147.649994  147.649994  140.509995  142.160004  142.160004   \n",
       "1191  2020-02-18  142.130005  142.130005  137.000000  139.720001  139.720001   \n",
       "1192  2020-02-19  140.000000  142.190002  140.000000  141.679993  141.679993   \n",
       "1193  2020-02-20  142.000000  142.399994  140.000000  141.270004  141.270004   \n",
       "1194  2020-02-21  140.000000  140.000000  137.000000  138.130005  138.130005   \n",
       "\n",
       "       Volume        MA10        MA60  \n",
       "1190   3570.0  139.627000  124.133667  \n",
       "1191  27560.0  140.107001  124.596167  \n",
       "1192  11610.0  140.603999  125.114334  \n",
       "1193  15890.0  140.739000  125.632834  \n",
       "1194  15940.0  140.665001  126.052000  "
      ]
     },
     "execution_count": 14,
     "metadata": {},
     "output_type": "execute_result"
    }
   ],
   "source": [
    "app['MA10'] = app['Close'].rolling(10).mean()\n",
    "app['MA60'] = app['Close'].rolling(60).mean()\n",
    "app = app.dropna()\n",
    "app.tail()"
   ]
  },
  {
   "cell_type": "code",
   "execution_count": 16,
   "metadata": {},
   "outputs": [
    {
     "data": {
      "image/png": "[encoded data removed]",
      "text/plain": [
       "<Figure size 432x288 with 1 Axes>"
      ]
     },
     "metadata": {
      "needs_background": "light"
     },
     "output_type": "display_data"
    }
   ],
   "source": [
    "app['MA10'].plot()\n",
    "app['MA60'].plot()\n",
    "plt.legend()\n",
    "plt.show()"
   ]
  },
  {
   "cell_type": "code",
   "execution_count": 19,
   "metadata": {},
   "outputs": [
    {
     "data": {
      "image/png": "[encoded data removed]",
      "text/plain": [
       "<Figure size 432x288 with 1 Axes>"
      ]
     },
     "metadata": {
      "needs_background": "light"
     },
     "output_type": "display_data"
    }
   ],
   "source": [
    "#Comparing both moving averages\n",
    "orcl['MA10'].plot(label='ORCL34-MA10')\n",
    "orcl['MA60'].plot(label='ORCL34-MA60')\n",
    "app['MA10'].plot(label='AAPL34-MA10')\n",
    "app['MA60'].plot(label='AAPL34-MA60')\n",
    "plt.legend()\n",
    "plt.show()\n",
    "\n"
   ]
  },
  {
   "cell_type": "code",
   "execution_count": 22,
   "metadata": {},
   "outputs": [
    {
     "data": {
      "text/html": [
       "<div>\n",
       "<style scoped>\n",
       "    .dataframe tbody tr th:only-of-type {\n",
       "        vertical-align: middle;\n",
       "    }\n",
       "\n",
       "    .dataframe tbody tr th {\n",
       "        vertical-align: top;\n",
       "    }\n",
       "\n",
       "    .dataframe thead th {\n",
       "        text-align: right;\n",
       "    }\n",
       "</style>\n",
       "<table border=\"1\" class=\"dataframe\">\n",
       "  <thead>\n",
       "    <tr style=\"text-align: right;\">\n",
       "      <th></th>\n",
       "      <th>Date</th>\n",
       "      <th>Open</th>\n",
       "      <th>High</th>\n",
       "      <th>Low</th>\n",
       "      <th>Close</th>\n",
       "      <th>Adj Close</th>\n",
       "      <th>Volume</th>\n",
       "      <th>MA10</th>\n",
       "      <th>MA60</th>\n",
       "      <th>Shares</th>\n",
       "    </tr>\n",
       "  </thead>\n",
       "  <tbody>\n",
       "    <tr>\n",
       "      <th>1190</th>\n",
       "      <td>2020-02-17</td>\n",
       "      <td>239.699997</td>\n",
       "      <td>239.699997</td>\n",
       "      <td>239.699997</td>\n",
       "      <td>239.699997</td>\n",
       "      <td>239.699997</td>\n",
       "      <td>0.0</td>\n",
       "      <td>236.997002</td>\n",
       "      <td>228.875999</td>\n",
       "      <td>1</td>\n",
       "    </tr>\n",
       "    <tr>\n",
       "      <th>1191</th>\n",
       "      <td>2020-02-18</td>\n",
       "      <td>240.639999</td>\n",
       "      <td>240.639999</td>\n",
       "      <td>239.839996</td>\n",
       "      <td>239.839996</td>\n",
       "      <td>239.839996</td>\n",
       "      <td>2340.0</td>\n",
       "      <td>238.061002</td>\n",
       "      <td>228.909999</td>\n",
       "      <td>1</td>\n",
       "    </tr>\n",
       "    <tr>\n",
       "      <th>1192</th>\n",
       "      <td>2020-02-19</td>\n",
       "      <td>243.580002</td>\n",
       "      <td>243.580002</td>\n",
       "      <td>243.580002</td>\n",
       "      <td>243.580002</td>\n",
       "      <td>243.580002</td>\n",
       "      <td>610.0</td>\n",
       "      <td>239.050002</td>\n",
       "      <td>229.030166</td>\n",
       "      <td>1</td>\n",
       "    </tr>\n",
       "    <tr>\n",
       "      <th>1193</th>\n",
       "      <td>2020-02-20</td>\n",
       "      <td>243.770004</td>\n",
       "      <td>244.279999</td>\n",
       "      <td>243.770004</td>\n",
       "      <td>244.279999</td>\n",
       "      <td>244.279999</td>\n",
       "      <td>1530.0</td>\n",
       "      <td>239.937001</td>\n",
       "      <td>229.153666</td>\n",
       "      <td>1</td>\n",
       "    </tr>\n",
       "    <tr>\n",
       "      <th>1194</th>\n",
       "      <td>2020-02-21</td>\n",
       "      <td>240.419998</td>\n",
       "      <td>240.539993</td>\n",
       "      <td>240.419998</td>\n",
       "      <td>240.539993</td>\n",
       "      <td>240.539993</td>\n",
       "      <td>1220.0</td>\n",
       "      <td>240.267000</td>\n",
       "      <td>229.178499</td>\n",
       "      <td>1</td>\n",
       "    </tr>\n",
       "  </tbody>\n",
       "</table>\n",
       "</div>"
      ],
      "text/plain": [
       "            Date        Open        High         Low       Close   Adj Close  \\\n",
       "1190  2020-02-17  239.699997  239.699997  239.699997  239.699997  239.699997   \n",
       "1191  2020-02-18  240.639999  240.639999  239.839996  239.839996  239.839996   \n",
       "1192  2020-02-19  243.580002  243.580002  243.580002  243.580002  243.580002   \n",
       "1193  2020-02-20  243.770004  244.279999  243.770004  244.279999  244.279999   \n",
       "1194  2020-02-21  240.419998  240.539993  240.419998  240.539993  240.539993   \n",
       "\n",
       "      Volume        MA10        MA60  Shares  \n",
       "1190     0.0  236.997002  228.875999       1  \n",
       "1191  2340.0  238.061002  228.909999       1  \n",
       "1192   610.0  239.050002  229.030166       1  \n",
       "1193  1530.0  239.937001  229.153666       1  \n",
       "1194  1220.0  240.267000  229.178499       1  "
      ]
     },
     "execution_count": 22,
     "metadata": {},
     "output_type": "execute_result"
    }
   ],
   "source": [
    "#Creating a column to identify when to buy or not, when Shares = 1, time to buy and hold\n",
    "orcl['Shares'] = [1 if orcl.loc[ei,'MA10']>orcl.loc[ei,'MA60']else 0 for ei in orcl.index]\n",
    "orcl.tail()"
   ]
  },
  {
   "cell_type": "code",
   "execution_count": 24,
   "metadata": {},
   "outputs": [
    {
     "data": {
      "text/html": [
       "<div>\n",
       "<style scoped>\n",
       "    .dataframe tbody tr th:only-of-type {\n",
       "        vertical-align: middle;\n",
       "    }\n",
       "\n",
       "    .dataframe tbody tr th {\n",
       "        vertical-align: top;\n",
       "    }\n",
       "\n",
       "    .dataframe thead th {\n",
       "        text-align: right;\n",
       "    }\n",
       "</style>\n",
       "<table border=\"1\" class=\"dataframe\">\n",
       "  <thead>\n",
       "    <tr style=\"text-align: right;\">\n",
       "      <th></th>\n",
       "      <th>Date</th>\n",
       "      <th>Open</th>\n",
       "      <th>High</th>\n",
       "      <th>Low</th>\n",
       "      <th>Close</th>\n",
       "      <th>Adj Close</th>\n",
       "      <th>Volume</th>\n",
       "      <th>MA10</th>\n",
       "      <th>MA60</th>\n",
       "      <th>Shares</th>\n",
       "    </tr>\n",
       "  </thead>\n",
       "  <tbody>\n",
       "    <tr>\n",
       "      <th>1190</th>\n",
       "      <td>2020-02-17</td>\n",
       "      <td>147.649994</td>\n",
       "      <td>147.649994</td>\n",
       "      <td>140.509995</td>\n",
       "      <td>142.160004</td>\n",
       "      <td>142.160004</td>\n",
       "      <td>3570.0</td>\n",
       "      <td>139.627000</td>\n",
       "      <td>124.133667</td>\n",
       "      <td>1</td>\n",
       "    </tr>\n",
       "    <tr>\n",
       "      <th>1191</th>\n",
       "      <td>2020-02-18</td>\n",
       "      <td>142.130005</td>\n",
       "      <td>142.130005</td>\n",
       "      <td>137.000000</td>\n",
       "      <td>139.720001</td>\n",
       "      <td>139.720001</td>\n",
       "      <td>27560.0</td>\n",
       "      <td>140.107001</td>\n",
       "      <td>124.596167</td>\n",
       "      <td>1</td>\n",
       "    </tr>\n",
       "    <tr>\n",
       "      <th>1192</th>\n",
       "      <td>2020-02-19</td>\n",
       "      <td>140.000000</td>\n",
       "      <td>142.190002</td>\n",
       "      <td>140.000000</td>\n",
       "      <td>141.679993</td>\n",
       "      <td>141.679993</td>\n",
       "      <td>11610.0</td>\n",
       "      <td>140.603999</td>\n",
       "      <td>125.114334</td>\n",
       "      <td>1</td>\n",
       "    </tr>\n",
       "    <tr>\n",
       "      <th>1193</th>\n",
       "      <td>2020-02-20</td>\n",
       "      <td>142.000000</td>\n",
       "      <td>142.399994</td>\n",
       "      <td>140.000000</td>\n",
       "      <td>141.270004</td>\n",
       "      <td>141.270004</td>\n",
       "      <td>15890.0</td>\n",
       "      <td>140.739000</td>\n",
       "      <td>125.632834</td>\n",
       "      <td>1</td>\n",
       "    </tr>\n",
       "    <tr>\n",
       "      <th>1194</th>\n",
       "      <td>2020-02-21</td>\n",
       "      <td>140.000000</td>\n",
       "      <td>140.000000</td>\n",
       "      <td>137.000000</td>\n",
       "      <td>138.130005</td>\n",
       "      <td>138.130005</td>\n",
       "      <td>15940.0</td>\n",
       "      <td>140.665001</td>\n",
       "      <td>126.052000</td>\n",
       "      <td>1</td>\n",
       "    </tr>\n",
       "  </tbody>\n",
       "</table>\n",
       "</div>"
      ],
      "text/plain": [
       "            Date        Open        High         Low       Close   Adj Close  \\\n",
       "1190  2020-02-17  147.649994  147.649994  140.509995  142.160004  142.160004   \n",
       "1191  2020-02-18  142.130005  142.130005  137.000000  139.720001  139.720001   \n",
       "1192  2020-02-19  140.000000  142.190002  140.000000  141.679993  141.679993   \n",
       "1193  2020-02-20  142.000000  142.399994  140.000000  141.270004  141.270004   \n",
       "1194  2020-02-21  140.000000  140.000000  137.000000  138.130005  138.130005   \n",
       "\n",
       "       Volume        MA10        MA60  Shares  \n",
       "1190   3570.0  139.627000  124.133667       1  \n",
       "1191  27560.0  140.107001  124.596167       1  \n",
       "1192  11610.0  140.603999  125.114334       1  \n",
       "1193  15890.0  140.739000  125.632834       1  \n",
       "1194  15940.0  140.665001  126.052000       1  "
      ]
     },
     "execution_count": 24,
     "metadata": {},
     "output_type": "execute_result"
    }
   ],
   "source": [
    "app['Shares'] = [1 if app.loc[ei,'MA10']>app.loc[ei,'MA60']else 0 for ei in app.index]\n",
    "app.tail()"
   ]
  },
  {
   "cell_type": "code",
   "execution_count": 32,
   "metadata": {},
   "outputs": [
    {
     "data": {
      "image/png": "[encoded data removed]",
      "text/plain": [
       "<Figure size 432x288 with 1 Axes>"
      ]
     },
     "metadata": {
      "needs_background": "light"
     },
     "output_type": "display_data"
    }
   ],
   "source": [
    "#comparing the profit of both--ORCL34\n",
    "orcl['Close1'] = orcl['Close'].shift(-1)\n",
    "orcl['Profit'] = [orcl.loc[ei,'Close1']-orcl.loc[ei,'Close'] if orcl.loc[ei,'Shares']==1 else 0 for ei in orcl.index]\n",
    "orcl['Profit'].plot(label='ORCL34',color='red')\n",
    "plt.legend()\n",
    "plt.show()"
   ]
  },
  {
   "cell_type": "code",
   "execution_count": 33,
   "metadata": {},
   "outputs": [
    {
     "data": {
      "image/png": "[encoded data removed]",
      "text/plain": [
       "<Figure size 432x288 with 1 Axes>"
      ]
     },
     "metadata": {
      "needs_background": "light"
     },
     "output_type": "display_data"
    }
   ],
   "source": [
    "#now AAPL34\n",
    "app['Close1'] = app['Close'].shift(-1)\n",
    "app['Profit'] = [app.loc[ei,'Close1']-app.loc[ei,'Close'] if app.loc[ei,'Shares']==1 else 0 for ei in app.index]\n",
    "app['Profit'].plot(label='AAPL34')\n",
    "plt.legend()\n",
    "plt.show()"
   ]
  },
  {
   "cell_type": "code",
   "execution_count": 55,
   "metadata": {},
   "outputs": [
    {
     "data": {
      "image/png": "[encoded data removed]",
      "text/plain": [
       "<Figure size 432x288 with 1 Axes>"
      ]
     },
     "metadata": {
      "needs_background": "light"
     },
     "output_type": "display_data"
    }
   ],
   "source": [
    "#checking wealth accumulated for the shareholder during this period of time\n",
    "orcl['Wealth'] = orcl['Profit'].cumsum()\n",
    "orcl['Wealth'].plot(color='red')\n",
    "plt.title('Total money accumulated is {}'.format(orcl.loc[orcl.index[-2], 'Wealth']))\n",
    "plt.show()"
   ]
  },
  {
   "cell_type": "code",
   "execution_count": 58,
   "metadata": {},
   "outputs": [
    {
     "data": {
      "image/png": "[encoded data removed]",
      "text/plain": [
       "<Figure size 432x288 with 1 Axes>"
      ]
     },
     "metadata": {
      "needs_background": "light"
     },
     "output_type": "display_data"
    }
   ],
   "source": [
    "app['Wealth'] = app['Profit'].cumsum()\n",
    "app['Wealth'].plot(color = 'blue')\n",
    "plt.title('Total money accumulated is {}'.format(app.loc[app.index[-2], 'Wealth']))\n",
    "plt.show()"
   ]
  },
  {
   "cell_type": "code",
   "execution_count": 60,
   "metadata": {},
   "outputs": [
    {
     "data": {
      "text/plain": [
       "<matplotlib.axes._subplots.AxesSubplot at 0xbe6ab08>"
      ]
     },
     "execution_count": 60,
     "metadata": {},
     "output_type": "execute_result"
    },
    {
     "data": {
      "image/png": "[encoded data removed]",
      "text/plain": [
       "<Figure size 432x288 with 1 Axes>"
      ]
     },
     "metadata": {
      "needs_background": "light"
     },
     "output_type": "display_data"
    }
   ],
   "source": [
    "#checking %change distribution of AAPL34\n",
    "import numpy as np\n",
    "from scipy.stats import norm\n",
    "app['LogReturns'] = np.log(app['Close']).shift(-1)-np.log(app['Close'])\n",
    "app['LogReturns'].hist(bins=100)"
   ]
  },
  {
   "cell_type": "code",
   "execution_count": 67,
   "metadata": {},
   "outputs": [
    {
     "data": {
      "text/plain": [
       "<matplotlib.axes._subplots.AxesSubplot at 0xc588208>"
      ]
     },
     "execution_count": 67,
     "metadata": {},
     "output_type": "execute_result"
    },
    {
     "data": {
      "image/png": "[encoded data removed]",
      "text/plain": [
       "<Figure size 432x288 with 1 Axes>"
      ]
     },
     "metadata": {
      "needs_background": "light"
     },
     "output_type": "display_data"
    }
   ],
   "source": [
    "orcl['LogReturns'] = np.log(orcl['Close']).shift(-1)-np.log(orcl['Close'])\n",
    "orcl['LogReturns'].hist(bins=100,color='red')"
   ]
  },
  {
   "cell_type": "code",
   "execution_count": 71,
   "metadata": {},
   "outputs": [
    {
     "name": "stdout",
     "output_type": "stream",
     "text": [
      "Probability of ORCL34 losing 5% of value in a day 0.00013157869953046443\n"
     ]
    }
   ],
   "source": [
    "#risk metrics\n",
    "mu_orcl = orcl['LogReturns'].mean()\n",
    "sigma_orcl = orcl['LogReturns'].std(ddof=1)\n",
    "prob1 = norm.cdf(-0.05,mu_orcl,sigma_orcl)\n",
    "print('Probability of ORCL34 losing 5% of value in a day',prob1)"
   ]
  },
  {
   "cell_type": "code",
   "execution_count": 73,
   "metadata": {},
   "outputs": [
    {
     "name": "stdout",
     "output_type": "stream",
     "text": [
      "Probability of AAPL34 losing 5% of value in a day 0.005552263781665018\n"
     ]
    }
   ],
   "source": [
    "#now AAPL34\n",
    "mu_app = app['LogReturns'].mean()\n",
    "sigma_app = app['LogReturns'].std(ddof=1)\n",
    "prob2 = norm.cdf(-0.05,mu_app,sigma_app)\n",
    "print('Probability of AAPL34 losing 5% of value in a day',prob2)"
   ]
  },
  {
   "cell_type": "code",
   "execution_count": 75,
   "metadata": {},
   "outputs": [
    {
     "data": {
      "text/plain": [
       "-0.022261033694528996"
      ]
     },
     "execution_count": 75,
     "metadata": {},
     "output_type": "execute_result"
    }
   ],
   "source": [
    "#95 VAR(value at risk) of ORCL34\n",
    "var_95_orcl34 = norm.ppf(1-0.95,mu_orcl,sigma_orcl)\n",
    "var_95_orcl34"
   ]
  },
  {
   "cell_type": "code",
   "execution_count": 77,
   "metadata": {},
   "outputs": [
    {
     "data": {
      "text/plain": [
       "-0.031974806692308386"
      ]
     },
     "execution_count": 77,
     "metadata": {},
     "output_type": "execute_result"
    }
   ],
   "source": [
    "#95% VAR of AAPL34\n",
    "var_95_app = norm.ppf(1-0.95,mu_app,sigma_app)\n",
    "var_95_app"
   ]
  }
 ],
 "metadata": {
  "kernelspec": {
   "display_name": "Python 3",
   "language": "python",
   "name": "python3"
  },
  "language_info": {
   "codemirror_mode": {
    "name": "ipython",
    "version": 3
   },
   "file_extension": ".py",
   "mimetype": "text/x-python",
   "name": "python",
   "nbconvert_exporter": "python",
   "pygments_lexer": "ipython3",
   "version": "3.7.6"
  }
 },
 "nbformat": 4,
 "nbformat_minor": 4
}
